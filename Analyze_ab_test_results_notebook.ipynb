{
 "cells": [
  {
   "cell_type": "markdown",
   "metadata": {},
   "source": [
    "## Analyze A/B Test Results\n",
    "\n",
    "## Table of Contents\n",
    "- [Introduction](#intro)\n",
    "- [Part I - Probability](#probability)\n",
    "- [Part II - A/B Test](#ab_test)\n",
    "- [Part III - Regression](#regression)\n",
    "\n",
    "\n",
    "<a id='intro'></a>\n",
    "### Introduction\n",
    "\n",
    "A/B tests are very commonly performed by data analysts and data scientists. In this project, our goal is to work through this notebook to help the company understand if they should implement the new page, keep the old page, or perhaps run the experiment longer to make their decision.\n",
    "\n",
    "(https://review.udacity.com/#!/projects/37e27304-ad47-4eb0-a1ab-8c12f60e43d0/rubric).\n",
    "\n",
    "<a id='probability'></a>\n",
    "#### Part I - Probability\n",
    "\n",
    "To get started, let's import our libraries."
   ]
  },
  {
   "cell_type": "code",
   "execution_count": 1,
   "metadata": {},
   "outputs": [],
   "source": [
    "import pandas as pd\n",
    "import numpy as np\n",
    "import random\n",
    "import matplotlib.pyplot as plt\n",
    "%matplotlib inline\n",
    "#We are setting the seed to assure you get the same answers on quizzes as we set up\n",
    "random.seed(42)"
   ]
  },
  {
   "cell_type": "markdown",
   "metadata": {},
   "source": [
    "`1.` Now, we should read in the `ab_data.csv` data. Store it in `df`.  \n",
    "\n",
    "a. Read in the dataset and take a look at the top few rows here:"
   ]
  },
  {
   "cell_type": "code",
   "execution_count": 2,
   "metadata": {},
   "outputs": [
    {
     "data": {
      "text/html": [
       "<div>\n",
       "<style>\n",
       "    .dataframe thead tr:only-child th {\n",
       "        text-align: right;\n",
       "    }\n",
       "\n",
       "    .dataframe thead th {\n",
       "        text-align: left;\n",
       "    }\n",
       "\n",
       "    .dataframe tbody tr th {\n",
       "        vertical-align: top;\n",
       "    }\n",
       "</style>\n",
       "<table border=\"1\" class=\"dataframe\">\n",
       "  <thead>\n",
       "    <tr style=\"text-align: right;\">\n",
       "      <th></th>\n",
       "      <th>user_id</th>\n",
       "      <th>timestamp</th>\n",
       "      <th>group</th>\n",
       "      <th>landing_page</th>\n",
       "      <th>converted</th>\n",
       "    </tr>\n",
       "  </thead>\n",
       "  <tbody>\n",
       "    <tr>\n",
       "      <th>0</th>\n",
       "      <td>851104</td>\n",
       "      <td>2017-01-21 22:11:48.556739</td>\n",
       "      <td>control</td>\n",
       "      <td>old_page</td>\n",
       "      <td>0</td>\n",
       "    </tr>\n",
       "    <tr>\n",
       "      <th>1</th>\n",
       "      <td>804228</td>\n",
       "      <td>2017-01-12 08:01:45.159739</td>\n",
       "      <td>control</td>\n",
       "      <td>old_page</td>\n",
       "      <td>0</td>\n",
       "    </tr>\n",
       "    <tr>\n",
       "      <th>2</th>\n",
       "      <td>661590</td>\n",
       "      <td>2017-01-11 16:55:06.154213</td>\n",
       "      <td>treatment</td>\n",
       "      <td>new_page</td>\n",
       "      <td>0</td>\n",
       "    </tr>\n",
       "    <tr>\n",
       "      <th>3</th>\n",
       "      <td>853541</td>\n",
       "      <td>2017-01-08 18:28:03.143765</td>\n",
       "      <td>treatment</td>\n",
       "      <td>new_page</td>\n",
       "      <td>0</td>\n",
       "    </tr>\n",
       "    <tr>\n",
       "      <th>4</th>\n",
       "      <td>864975</td>\n",
       "      <td>2017-01-21 01:52:26.210827</td>\n",
       "      <td>control</td>\n",
       "      <td>old_page</td>\n",
       "      <td>1</td>\n",
       "    </tr>\n",
       "  </tbody>\n",
       "</table>\n",
       "</div>"
      ],
      "text/plain": [
       "   user_id                   timestamp      group landing_page  converted\n",
       "0   851104  2017-01-21 22:11:48.556739    control     old_page          0\n",
       "1   804228  2017-01-12 08:01:45.159739    control     old_page          0\n",
       "2   661590  2017-01-11 16:55:06.154213  treatment     new_page          0\n",
       "3   853541  2017-01-08 18:28:03.143765  treatment     new_page          0\n",
       "4   864975  2017-01-21 01:52:26.210827    control     old_page          1"
      ]
     },
     "execution_count": 2,
     "metadata": {},
     "output_type": "execute_result"
    }
   ],
   "source": [
    "df=pd.read_csv('ab_data.csv')\n",
    "df.head()"
   ]
  },
  {
   "cell_type": "markdown",
   "metadata": {},
   "source": [
    "b. Use the below cell to find the number of rows in the dataset."
   ]
  },
  {
   "cell_type": "code",
   "execution_count": 3,
   "metadata": {},
   "outputs": [
    {
     "data": {
      "text/plain": [
       "(294478, 5)"
      ]
     },
     "execution_count": 3,
     "metadata": {},
     "output_type": "execute_result"
    }
   ],
   "source": [
    "df.shape"
   ]
  },
  {
   "cell_type": "markdown",
   "metadata": {},
   "source": [
    "c. The number of unique users in the dataset."
   ]
  },
  {
   "cell_type": "code",
   "execution_count": 4,
   "metadata": {},
   "outputs": [
    {
     "data": {
      "text/plain": [
       "290584"
      ]
     },
     "execution_count": 4,
     "metadata": {},
     "output_type": "execute_result"
    }
   ],
   "source": [
    "df.user_id.nunique()"
   ]
  },
  {
   "cell_type": "markdown",
   "metadata": {
    "collapsed": true
   },
   "source": [
    "d. The proportion of users converted."
   ]
  },
  {
   "cell_type": "code",
   "execution_count": 5,
   "metadata": {},
   "outputs": [
    {
     "data": {
      "text/plain": [
       "0.12126269856564711"
      ]
     },
     "execution_count": 5,
     "metadata": {},
     "output_type": "execute_result"
    }
   ],
   "source": [
    "df[df['converted']==1].shape[0]/df.user_id.nunique()"
   ]
  },
  {
   "cell_type": "markdown",
   "metadata": {
    "collapsed": true
   },
   "source": [
    "e. The number of times the `new_page` and `treatment` don't line up."
   ]
  },
  {
   "cell_type": "code",
   "execution_count": 6,
   "metadata": {},
   "outputs": [
    {
     "data": {
      "text/plain": [
       "3893"
      ]
     },
     "execution_count": 6,
     "metadata": {},
     "output_type": "execute_result"
    }
   ],
   "source": [
    "selection1=df.loc[(df.group=='treatment')&(df.landing_page!='new_page')].count()+df.loc[(df.group!='treatment')&(df.landing_page=='new_page')].count()\n",
    "selection1[0]"
   ]
  },
  {
   "cell_type": "markdown",
   "metadata": {},
   "source": [
    "f. Do any of the rows have missing values?"
   ]
  },
  {
   "cell_type": "code",
   "execution_count": 7,
   "metadata": {},
   "outputs": [
    {
     "data": {
      "text/plain": [
       "user_id         0\n",
       "timestamp       0\n",
       "group           0\n",
       "landing_page    0\n",
       "converted       0\n",
       "dtype: int64"
      ]
     },
     "execution_count": 7,
     "metadata": {},
     "output_type": "execute_result"
    }
   ],
   "source": [
    "df.isnull().sum()[0]"
   ]
  },
  {
   "cell_type": "markdown",
   "metadata": {},
   "source": [
    "`2.` For the rows where **treatment** is not aligned with **new_page** or **control** is not aligned with **old_page**, we cannot be sure if this row truly received the new or old page.  Use **Quiz 2** in the classroom to provide how we should handle these rows.  \n",
    "\n",
    "a. Now use the answer to the quiz to create a new dataset that meets the specifications from the quiz.  Store your new dataframe in **df2**."
   ]
  },
  {
   "cell_type": "code",
   "execution_count": 12,
   "metadata": {},
   "outputs": [
    {
     "data": {
      "text/plain": [
       "(290585, 5)"
      ]
     },
     "execution_count": 12,
     "metadata": {},
     "output_type": "execute_result"
    }
   ],
   "source": [
    "df2=df[((df['group'] == 'treatment') == (df['landing_page'] == 'new_page')) == True]\n",
    "df2.shape"
   ]
  },
  {
   "cell_type": "code",
   "execution_count": 15,
   "metadata": {},
   "outputs": [
    {
     "data": {
      "text/html": [
       "<div>\n",
       "<style>\n",
       "    .dataframe thead tr:only-child th {\n",
       "        text-align: right;\n",
       "    }\n",
       "\n",
       "    .dataframe thead th {\n",
       "        text-align: left;\n",
       "    }\n",
       "\n",
       "    .dataframe tbody tr th {\n",
       "        vertical-align: top;\n",
       "    }\n",
       "</style>\n",
       "<table border=\"1\" class=\"dataframe\">\n",
       "  <thead>\n",
       "    <tr style=\"text-align: right;\">\n",
       "      <th></th>\n",
       "      <th>user_id</th>\n",
       "      <th>timestamp</th>\n",
       "      <th>group</th>\n",
       "      <th>landing_page</th>\n",
       "      <th>converted</th>\n",
       "    </tr>\n",
       "  </thead>\n",
       "  <tbody>\n",
       "    <tr>\n",
       "      <th>0</th>\n",
       "      <td>851104</td>\n",
       "      <td>2017-01-21 22:11:48.556739</td>\n",
       "      <td>control</td>\n",
       "      <td>old_page</td>\n",
       "      <td>0</td>\n",
       "    </tr>\n",
       "    <tr>\n",
       "      <th>1</th>\n",
       "      <td>804228</td>\n",
       "      <td>2017-01-12 08:01:45.159739</td>\n",
       "      <td>control</td>\n",
       "      <td>old_page</td>\n",
       "      <td>0</td>\n",
       "    </tr>\n",
       "    <tr>\n",
       "      <th>2</th>\n",
       "      <td>661590</td>\n",
       "      <td>2017-01-11 16:55:06.154213</td>\n",
       "      <td>treatment</td>\n",
       "      <td>new_page</td>\n",
       "      <td>0</td>\n",
       "    </tr>\n",
       "    <tr>\n",
       "      <th>3</th>\n",
       "      <td>853541</td>\n",
       "      <td>2017-01-08 18:28:03.143765</td>\n",
       "      <td>treatment</td>\n",
       "      <td>new_page</td>\n",
       "      <td>0</td>\n",
       "    </tr>\n",
       "    <tr>\n",
       "      <th>4</th>\n",
       "      <td>864975</td>\n",
       "      <td>2017-01-21 01:52:26.210827</td>\n",
       "      <td>control</td>\n",
       "      <td>old_page</td>\n",
       "      <td>1</td>\n",
       "    </tr>\n",
       "  </tbody>\n",
       "</table>\n",
       "</div>"
      ],
      "text/plain": [
       "   user_id                   timestamp      group landing_page  converted\n",
       "0   851104  2017-01-21 22:11:48.556739    control     old_page          0\n",
       "1   804228  2017-01-12 08:01:45.159739    control     old_page          0\n",
       "2   661590  2017-01-11 16:55:06.154213  treatment     new_page          0\n",
       "3   853541  2017-01-08 18:28:03.143765  treatment     new_page          0\n",
       "4   864975  2017-01-21 01:52:26.210827    control     old_page          1"
      ]
     },
     "execution_count": 15,
     "metadata": {},
     "output_type": "execute_result"
    }
   ],
   "source": [
    "df2.head()"
   ]
  },
  {
   "cell_type": "code",
   "execution_count": 16,
   "metadata": {},
   "outputs": [
    {
     "data": {
      "text/plain": [
       "0"
      ]
     },
     "execution_count": 16,
     "metadata": {},
     "output_type": "execute_result"
    }
   ],
   "source": [
    "# Double Check all of the correct rows were removed - this should be 0\n",
    "df2[((df2['group'] == 'treatment') == (df2['landing_page'] == 'new_page')) == False].shape[0]"
   ]
  },
  {
   "cell_type": "markdown",
   "metadata": {},
   "source": [
    "`3.` Use **df2** and the cells below to answer questions for **Quiz3** in the classroom."
   ]
  },
  {
   "cell_type": "markdown",
   "metadata": {},
   "source": [
    "a. How many unique **user_id**s are in **df2**?"
   ]
  },
  {
   "cell_type": "code",
   "execution_count": 17,
   "metadata": {},
   "outputs": [
    {
     "data": {
      "text/plain": [
       "290584"
      ]
     },
     "execution_count": 17,
     "metadata": {},
     "output_type": "execute_result"
    }
   ],
   "source": [
    "df2.nunique()[0]"
   ]
  },
  {
   "cell_type": "markdown",
   "metadata": {
    "collapsed": true
   },
   "source": [
    "b. There is one **user_id** repeated in **df2**.  What is it?"
   ]
  },
  {
   "cell_type": "code",
   "execution_count": 18,
   "metadata": {},
   "outputs": [
    {
     "data": {
      "text/html": [
       "<div>\n",
       "<style>\n",
       "    .dataframe thead tr:only-child th {\n",
       "        text-align: right;\n",
       "    }\n",
       "\n",
       "    .dataframe thead th {\n",
       "        text-align: left;\n",
       "    }\n",
       "\n",
       "    .dataframe tbody tr th {\n",
       "        vertical-align: top;\n",
       "    }\n",
       "</style>\n",
       "<table border=\"1\" class=\"dataframe\">\n",
       "  <thead>\n",
       "    <tr style=\"text-align: right;\">\n",
       "      <th></th>\n",
       "      <th>user_id</th>\n",
       "      <th>timestamp</th>\n",
       "      <th>group</th>\n",
       "      <th>landing_page</th>\n",
       "      <th>converted</th>\n",
       "    </tr>\n",
       "  </thead>\n",
       "  <tbody>\n",
       "    <tr>\n",
       "      <th>1899</th>\n",
       "      <td>773192</td>\n",
       "      <td>2017-01-09 05:37:58.781806</td>\n",
       "      <td>treatment</td>\n",
       "      <td>new_page</td>\n",
       "      <td>0</td>\n",
       "    </tr>\n",
       "    <tr>\n",
       "      <th>2893</th>\n",
       "      <td>773192</td>\n",
       "      <td>2017-01-14 02:55:59.590927</td>\n",
       "      <td>treatment</td>\n",
       "      <td>new_page</td>\n",
       "      <td>0</td>\n",
       "    </tr>\n",
       "  </tbody>\n",
       "</table>\n",
       "</div>"
      ],
      "text/plain": [
       "      user_id                   timestamp      group landing_page  converted\n",
       "1899   773192  2017-01-09 05:37:58.781806  treatment     new_page          0\n",
       "2893   773192  2017-01-14 02:55:59.590927  treatment     new_page          0"
      ]
     },
     "execution_count": 18,
     "metadata": {},
     "output_type": "execute_result"
    }
   ],
   "source": [
    "df2[df2['user_id'].duplicated(keep=False)]"
   ]
  },
  {
   "cell_type": "markdown",
   "metadata": {},
   "source": [
    "c. What is the row information for the repeat **user_id**? "
   ]
  },
  {
   "cell_type": "code",
   "execution_count": 19,
   "metadata": {},
   "outputs": [
    {
     "data": {
      "text/html": [
       "<div>\n",
       "<style>\n",
       "    .dataframe thead tr:only-child th {\n",
       "        text-align: right;\n",
       "    }\n",
       "\n",
       "    .dataframe thead th {\n",
       "        text-align: left;\n",
       "    }\n",
       "\n",
       "    .dataframe tbody tr th {\n",
       "        vertical-align: top;\n",
       "    }\n",
       "</style>\n",
       "<table border=\"1\" class=\"dataframe\">\n",
       "  <thead>\n",
       "    <tr style=\"text-align: right;\">\n",
       "      <th></th>\n",
       "      <th>user_id</th>\n",
       "      <th>timestamp</th>\n",
       "      <th>group</th>\n",
       "      <th>landing_page</th>\n",
       "      <th>converted</th>\n",
       "    </tr>\n",
       "  </thead>\n",
       "  <tbody>\n",
       "    <tr>\n",
       "      <th>1899</th>\n",
       "      <td>773192</td>\n",
       "      <td>2017-01-09 05:37:58.781806</td>\n",
       "      <td>treatment</td>\n",
       "      <td>new_page</td>\n",
       "      <td>0</td>\n",
       "    </tr>\n",
       "    <tr>\n",
       "      <th>2893</th>\n",
       "      <td>773192</td>\n",
       "      <td>2017-01-14 02:55:59.590927</td>\n",
       "      <td>treatment</td>\n",
       "      <td>new_page</td>\n",
       "      <td>0</td>\n",
       "    </tr>\n",
       "  </tbody>\n",
       "</table>\n",
       "</div>"
      ],
      "text/plain": [
       "      user_id                   timestamp      group landing_page  converted\n",
       "1899   773192  2017-01-09 05:37:58.781806  treatment     new_page          0\n",
       "2893   773192  2017-01-14 02:55:59.590927  treatment     new_page          0"
      ]
     },
     "execution_count": 19,
     "metadata": {},
     "output_type": "execute_result"
    }
   ],
   "source": [
    "df2[df2['user_id'].duplicated(keep=False)]"
   ]
  },
  {
   "cell_type": "markdown",
   "metadata": {},
   "source": [
    "d. Remove **one** of the rows with a duplicate **user_id**, but keep your dataframe as **df2**."
   ]
  },
  {
   "cell_type": "code",
   "execution_count": null,
   "metadata": {},
   "outputs": [],
   "source": [
    "#df2.drop_duplicates(inplace=True)\n",
    "#df2.user_id.duplicated().sum()\n",
    "#df2.drop(df2.index[1899], inplace=True)  ????????????????????????????\n",
    "#df2.user_id.duplicated().sum()\n",
    "#df2[df2['user_id'].duplicated(keep=False)]"
   ]
  },
  {
   "cell_type": "markdown",
   "metadata": {},
   "source": [
    "`4.` Use **df2** in the below cells to answer the quiz questions related to **Quiz 4** in the classroom.\n",
    "\n",
    "a. What is the probability of an individual converting regardless of the page they receive?"
   ]
  },
  {
   "cell_type": "code",
   "execution_count": 26,
   "metadata": {},
   "outputs": [
    {
     "data": {
      "text/plain": [
       "0.11891957956489856"
      ]
     },
     "execution_count": 26,
     "metadata": {},
     "output_type": "execute_result"
    }
   ],
   "source": [
    "df[df['group']=='treatment']['converted'].mean()"
   ]
  },
  {
   "cell_type": "markdown",
   "metadata": {},
   "source": [
    "b. Given that an individual was in the `control` group, what is the probability they converted?"
   ]
  },
  {
   "cell_type": "code",
   "execution_count": 21,
   "metadata": {},
   "outputs": [
    {
     "data": {
      "text/plain": [
       "0.12039917935897611"
      ]
     },
     "execution_count": 21,
     "metadata": {},
     "output_type": "execute_result"
    }
   ],
   "source": [
    "df[df['group']=='control']['converted'].mean()"
   ]
  },
  {
   "cell_type": "markdown",
   "metadata": {},
   "source": [
    "c. Given that an individual was in the `treatment` group, what is the probability they converted?"
   ]
  },
  {
   "cell_type": "code",
   "execution_count": 27,
   "metadata": {},
   "outputs": [
    {
     "data": {
      "text/plain": [
       "0.11891957956489856"
      ]
     },
     "execution_count": 27,
     "metadata": {},
     "output_type": "execute_result"
    }
   ],
   "source": [
    "df[df['group']=='treatment']['converted'].mean()"
   ]
  },
  {
   "cell_type": "markdown",
   "metadata": {},
   "source": [
    "d. What is the probability that an individual received the new page?"
   ]
  },
  {
   "cell_type": "code",
   "execution_count": 28,
   "metadata": {},
   "outputs": [
    {
     "data": {
      "text/plain": [
       "0.5"
      ]
     },
     "execution_count": 28,
     "metadata": {},
     "output_type": "execute_result"
    }
   ],
   "source": [
    "df[df['landing_page']=='new_page'].shape[0]/df.shape[0]"
   ]
  },
  {
   "cell_type": "markdown",
   "metadata": {},
   "source": [
    "e. Consider your results from a. through d. above, and explain below whether you think there is sufficient evidence to say that the new treatment page leads to more conversions."
   ]
  },
  {
   "cell_type": "markdown",
   "metadata": {},
   "source": [
    "****Based on results above, the rate of conversion by old page is more than new page so, the old page should stay.**.**"
   ]
  },
  {
   "cell_type": "markdown",
   "metadata": {},
   "source": [
    "<a id='ab_test'></a>\n",
    "### Part II - A/B Test\n",
    "\n",
    "Notice that because of the time stamp associated with each event, you could technically run a hypothesis test continuously as each observation was observed.  \n",
    "\n",
    "However, then the hard question is do you stop as soon as one page is considered significantly better than another or does it need to happen consistently for a certain amount of time?  How long do you run to render a decision that neither page is better than another?  \n",
    "\n",
    "These questions are the difficult parts associated with A/B tests in general.  \n",
    "\n",
    "\n",
    "`1.` For now, consider you need to make the decision just based on all the data provided.  If you want to assume that the old page is better unless the new page proves to be definitely better at a Type I error rate of 5%, what should your null and alternative hypotheses be?  You can state your hypothesis in terms of words or in terms of **$p_{old}$** and **$p_{new}$**, which are the converted rates for the old and new pages."
   ]
  },
  {
   "cell_type": "markdown",
   "metadata": {},
   "source": [
    "**$H_{0}=$  $p_{old}>p_{new}$ **\n",
    "\n",
    "**$H_{1}=$  $p_{new}>p_{old}$ **"
   ]
  },
  {
   "cell_type": "markdown",
   "metadata": {},
   "source": [
    "`2.` Assume under the null hypothesis, $p_{new}$ and $p_{old}$ both have \"true\" success rates equal to the **converted** success rate regardless of page - that is $p_{new}$ and $p_{old}$ are equal. Furthermore, assume they are equal to the **converted** rate in **ab_data.csv** regardless of the page. <br><br>\n",
    "\n",
    "Use a sample size for each page equal to the ones in **ab_data.csv**.  <br><br>\n",
    "\n",
    "Perform the sampling distribution for the difference in **converted** between the two pages over 10,000 iterations of calculating an estimate from the null.  <br><br>\n",
    "\n",
    "Use the cells below to provide the necessary parts of this simulation.  If this doesn't make complete sense right now, don't worry - you are going to work through the problems below to complete this problem.  You can use **Quiz 5** in the classroom to make sure you are on the right track.<br><br>"
   ]
  },
  {
   "cell_type": "markdown",
   "metadata": {},
   "source": [
    "a. What is the **convert rate** for $p_{new}$ under the null? "
   ]
  },
  {
   "cell_type": "code",
   "execution_count": 9,
   "metadata": {},
   "outputs": [
    {
     "data": {
      "text/plain": [
       "0.11965919355605512"
      ]
     },
     "execution_count": 9,
     "metadata": {},
     "output_type": "execute_result"
    }
   ],
   "source": [
    "p_new=df.query('converted==1').user_id.count()/df.shape[0]\n",
    "p_new"
   ]
  },
  {
   "cell_type": "markdown",
   "metadata": {},
   "source": [
    "b. What is the **convert rate** for $p_{old}$ under the null? <br><br>"
   ]
  },
  {
   "cell_type": "code",
   "execution_count": 10,
   "metadata": {},
   "outputs": [
    {
     "data": {
      "text/plain": [
       "0.11965919355605512"
      ]
     },
     "execution_count": 10,
     "metadata": {},
     "output_type": "execute_result"
    }
   ],
   "source": [
    "p_old=df.query('converted==1').user_id.count()/df.shape[0]\n",
    "p_old"
   ]
  },
  {
   "cell_type": "markdown",
   "metadata": {},
   "source": [
    "c. What is $n_{new}$?"
   ]
  },
  {
   "cell_type": "code",
   "execution_count": 31,
   "metadata": {},
   "outputs": [
    {
     "name": "stderr",
     "output_type": "stream",
     "text": [
      "D:\\ProgramData\\Anaconda3\\lib\\site-packages\\ipykernel_launcher.py:1: UserWarning: Boolean Series key will be reindexed to match DataFrame index.\n",
      "  \"\"\"Entry point for launching an IPython kernel.\n"
     ]
    },
    {
     "data": {
      "text/plain": [
       "145310"
      ]
     },
     "execution_count": 31,
     "metadata": {},
     "output_type": "execute_result"
    }
   ],
   "source": [
    "n_new=df2[df['group']=='treatment'].user_id.nunique()\n",
    "n_new"
   ]
  },
  {
   "cell_type": "markdown",
   "metadata": {},
   "source": [
    "d. What is $n_{old}$?"
   ]
  },
  {
   "cell_type": "code",
   "execution_count": 30,
   "metadata": {},
   "outputs": [
    {
     "name": "stderr",
     "output_type": "stream",
     "text": [
      "D:\\ProgramData\\Anaconda3\\lib\\site-packages\\ipykernel_launcher.py:1: UserWarning: Boolean Series key will be reindexed to match DataFrame index.\n",
      "  \"\"\"Entry point for launching an IPython kernel.\n"
     ]
    },
    {
     "data": {
      "text/plain": [
       "145274"
      ]
     },
     "execution_count": 30,
     "metadata": {},
     "output_type": "execute_result"
    }
   ],
   "source": [
    "n_old=df2[df['group']=='control'].user_id.nunique()\n",
    "n_old"
   ]
  },
  {
   "cell_type": "markdown",
   "metadata": {},
   "source": [
    "e. Simulate $n_{new}$ transactions with a convert rate of $p_{new}$ under the null.  Store these $n_{new}$ 1's and 0's in **new_page_converted**."
   ]
  },
  {
   "cell_type": "code",
   "execution_count": 32,
   "metadata": {},
   "outputs": [
    {
     "name": "stderr",
     "output_type": "stream",
     "text": [
      "D:\\ProgramData\\Anaconda3\\lib\\site-packages\\ipykernel_launcher.py:1: UserWarning: Boolean Series key will be reindexed to match DataFrame index.\n",
      "  \"\"\"Entry point for launching an IPython kernel.\n"
     ]
    }
   ],
   "source": [
    "tmp = df2[df['group']=='treatment'].sample(n_new, replace=True)\n",
    "new_page_converted = tmp.converted"
   ]
  },
  {
   "cell_type": "markdown",
   "metadata": {},
   "source": [
    "f. Simulate $n_{old}$ transactions with a convert rate of $p_{old}$ under the null.  Store these $n_{old}$ 1's and 0's in **old_page_converted**."
   ]
  },
  {
   "cell_type": "code",
   "execution_count": 33,
   "metadata": {},
   "outputs": [
    {
     "name": "stderr",
     "output_type": "stream",
     "text": [
      "D:\\ProgramData\\Anaconda3\\lib\\site-packages\\ipykernel_launcher.py:1: UserWarning: Boolean Series key will be reindexed to match DataFrame index.\n",
      "  \"\"\"Entry point for launching an IPython kernel.\n"
     ]
    }
   ],
   "source": [
    "tmp = df2[df['group']=='control'].sample(n_old, replace=True)\n",
    "old_page_converted = tmp.converted"
   ]
  },
  {
   "cell_type": "markdown",
   "metadata": {},
   "source": [
    "g. Find $p_{new}$ - $p_{old}$ for your simulated values from part (e) and (f)."
   ]
  },
  {
   "cell_type": "code",
   "execution_count": 34,
   "metadata": {},
   "outputs": [],
   "source": [
    "pnew = new_page_converted.sum()/new_page_converted.count()\n",
    "pold = old_page_converted.sum()/old_page_converted.count()\n",
    "diff = pnew - pold"
   ]
  },
  {
   "cell_type": "markdown",
   "metadata": {},
   "source": [
    "h. Simulate 10,000 $p_{new}$ - $p_{old}$ values using this same process similarly to the one you calculated in parts **a. through g.** above.  Store all 10,000 values in a numpy array called **p_diffs**."
   ]
  },
  {
   "cell_type": "code",
   "execution_count": 35,
   "metadata": {},
   "outputs": [
    {
     "name": "stderr",
     "output_type": "stream",
     "text": [
      "D:\\ProgramData\\Anaconda3\\lib\\site-packages\\ipykernel_launcher.py:3: UserWarning: Boolean Series key will be reindexed to match DataFrame index.\n",
      "  This is separate from the ipykernel package so we can avoid doing imports until\n",
      "D:\\ProgramData\\Anaconda3\\lib\\site-packages\\ipykernel_launcher.py:5: UserWarning: Boolean Series key will be reindexed to match DataFrame index.\n",
      "  \"\"\"\n"
     ]
    },
    {
     "data": {
      "text/plain": [
       "[-0.0013719117234282235,\n",
       " 0.00012195550293038482,\n",
       " -0.0013785070597759075,\n",
       " -4.9940395025552253e-05,\n",
       " -0.0020874592457683777,\n",
       " -0.00099336113213963073,\n",
       " -0.00051810837454072112,\n",
       " -0.0014132095778798398,\n",
       " -0.0016332578831642908,\n",
       " -0.0010413873419473502,\n",
       " -0.0015575525399478957,\n",
       " -0.0005527904281818069,\n",
       " -0.0043998832892736123,\n",
       " 0.00052105610987442097,\n",
       " -0.0011513893247548368,\n",
       " -0.0010004731961738289,\n",
       " 0.00013541391901447652,\n",
       " -0.0027067599360961897,\n",
       " -0.0012546476038591131,\n",
       " -0.0031612000507666577,\n",
       " -0.0029546340367729296,\n",
       " -0.00029149031348711663,\n",
       " -0.00097932971109625233,\n",
       " -0.0015505956647568347,\n",
       " -0.0010482760022623022,\n",
       " -0.0016398327550491421,\n",
       " -0.00020862003970754939,\n",
       " -0.003147542106169951,\n",
       " -0.0028239609569049029,\n",
       " -0.0034088916766498167,\n",
       " -0.0025484810538113079,\n",
       " -0.0029272055930339436,\n",
       " -0.00076580852728339033,\n",
       " 1.1544230866272764e-05,\n",
       " -0.0012205931270781872,\n",
       " -0.0028515616432060603,\n",
       " -0.0040079663719836678,\n",
       " -0.00082821746474644187,\n",
       " -0.0025966641578340499,\n",
       " 0.0008720145417213665,\n",
       " -0.0022391206218708298,\n",
       " -0.0023011850742095386,\n",
       " -0.0015300814619113451,\n",
       " -0.0010277140490035225,\n",
       " -0.0027481464698867475,\n",
       " -0.0040491908954434774,\n",
       " 0.00084448889178394271,\n",
       " -0.0029272124145215545,\n",
       " -0.0020324539909348655,\n",
       " -0.0018535074223332421,\n",
       " 0.00078264443242066772,\n",
       " -0.0020603480012032771,\n",
       " -0.00058012678183805289,\n",
       " -0.0026727515043566269,\n",
       " -0.0023628265943164001,\n",
       " -0.0028518396188261796,\n",
       " -0.0028584144907110448,\n",
       " -0.00028404740730381128,\n",
       " -0.002824160485417504,\n",
       " -0.00018800863066360807,\n",
       " -0.00019464489593695733,\n",
       " -0.0010484090212706937,\n",
       " -0.00024321511938162066,\n",
       " -0.0034366253819593795,\n",
       " -0.0017503616977745523,\n",
       " -0.0014820927702854925,\n",
       " -0.0027072101542784943,\n",
       " -0.00095216901074597626,\n",
       " -0.0015438724255164571,\n",
       " -9.1831434670536227e-06,\n",
       " -0.0014406499592221483,\n",
       " -0.0024180399045220236,\n",
       " -0.0019636628886119528,\n",
       " -0.0013856719903390796,\n",
       " -0.00090364994845840152,\n",
       " -0.0023285060795186774,\n",
       " -0.0019087599560926177,\n",
       " -0.0013647024531955737,\n",
       " -0.00099311044246995495,\n",
       " -0.00074535060171067313,\n",
       " 0.00034205667474382362,\n",
       " -0.0021288952353440971,\n",
       " -0.0017089512887773495,\n",
       " -0.0024455519114842394,\n",
       " -0.003402074641954772,\n",
       " -0.00069031976629863046,\n",
       " -0.00091778539718784247,\n",
       " -0.0014818420806158028,\n",
       " -0.0028104223883413798,\n",
       " -0.0025418686637445759,\n",
       " -0.0030924072430718319,\n",
       " -0.0025074372997731659,\n",
       " -0.00093154566409871242,\n",
       " 0.00069325726940093479,\n",
       " -0.00085537475435290555,\n",
       " -0.0011310251946367728,\n",
       " -0.001000174756090863,\n",
       " -0.0021151076824827975,\n",
       " -0.0032096014423929481,\n",
       " -0.0035949179072194831,\n",
       " -0.00039475882482280233,\n",
       " -0.0032023051981932699,\n",
       " -0.0017161230408281325,\n",
       " -0.0016954502383956932,\n",
       " -0.0022666991383372553,\n",
       " -0.0012962080855837277,\n",
       " -0.0034639463872684906,\n",
       " -0.0023009275630522519,\n",
       " -0.0018054266406246355,\n",
       " -0.0016058857166980772,\n",
       " 0.0015877530657146255,\n",
       " -0.0037258075693191589,\n",
       " -0.001185969056081787,\n",
       " -0.00038760924260675123,\n",
       " -0.0027345925529761034,\n",
       " -0.0029066317021718552,\n",
       " -0.00075939907647308569,\n",
       " -0.0015439696317148949,\n",
       " -0.0031612580334113433,\n",
       " -0.0011516536573997482,\n",
       " -0.0026727037539433646,\n",
       " -0.0029615602152697346,\n",
       " -0.00077290353759855435,\n",
       " -0.0027273577021649092,\n",
       " -0.0025553970000766896,\n",
       " -0.0018880035904369485,\n",
       " -0.0017778037844887601,\n",
       " -0.0022182312372067553,\n",
       " 0.00045217291746878219,\n",
       " 0.00030742919300359717,\n",
       " -0.0030648065567706884,\n",
       " -0.0021567210307363999,\n",
       " -0.0013581736263520994,\n",
       " -0.0023490629166617316,\n",
       " 0.00019056924657541441,\n",
       " -0.0015919566179688621,\n",
       " -0.0016677779264746284,\n",
       " -0.003209546870492061,\n",
       " -0.0025486021352163907,\n",
       " -0.0012273811704508752,\n",
       " -0.0024868787572582124,\n",
       " -0.0017640315799745676,\n",
       " -0.00044940083544103837,\n",
       " -0.0018673035020540518,\n",
       " -0.0018467142628448424,\n",
       " -0.0028721321233243502,\n",
       " -0.00081424061560393668,\n",
       " 0.00010124859305989109,\n",
       " -0.0022182158888596343,\n",
       " -0.0026316958127151902,\n",
       " -0.0041043342854010928,\n",
       " -0.00084200160686392911,\n",
       " -0.0035467041065024851,\n",
       " -0.0016468220323063443,\n",
       " -0.0021837453013344582,\n",
       " -2.0830170361918476e-06,\n",
       " -0.0018466545748282576,\n",
       " -0.002403999956619135,\n",
       " -0.0025762437504431995,\n",
       " -0.0022046517397175669,\n",
       " -0.0012341640977078655,\n",
       " -0.00062820926891855866,\n",
       " -0.00012601409857290746,\n",
       " -0.0013853923093470472,\n",
       " -0.0023216344729227456,\n",
       " -0.0026311688527972804,\n",
       " -0.0012547874443551293,\n",
       " -0.0010965153835578445,\n",
       " -0.0015712565295859654,\n",
       " -0.00059390410246794312,\n",
       " -0.00092462119097380668,\n",
       " -0.00071083737988794637,\n",
       " -0.0026449308250800496,\n",
       " -0.0030442974700408965,\n",
       " 0.00071350884497344003,\n",
       " -0.0020119551364364968,\n",
       " -0.0018327646996527808,\n",
       " -0.0017364871709461965,\n",
       " -0.0014953755330636143,\n",
       " -0.0017089308243145168,\n",
       " -0.0042829841192916634,\n",
       " -0.0011445484148531748,\n",
       " -0.0013306820838527023,\n",
       " -0.0016403136699256887,\n",
       " -0.00079341944581595714,\n",
       " -0.0035950441047402776,\n",
       " -0.0014681449124653301,\n",
       " -0.00050474204853936944,\n",
       " -0.002521045788584711,\n",
       " -0.0042762097188941972,\n",
       " -0.00078661093798043646,\n",
       " 0.0004315069365239399,\n",
       " -0.0017640264638588699,\n",
       " 4.8295184853913709e-06,\n",
       " -0.0040006581901806809,\n",
       " -0.0017158246007451805,\n",
       " -0.0024454308300791427,\n",
       " -0.0016813267272695609,\n",
       " -0.001991193654665116,\n",
       " 0.0001287247872121533,\n",
       " -0.00188086594582422,\n",
       " -0.002411209226851771,\n",
       " -0.0035605206506861276,\n",
       " -0.00096574168674755378,\n",
       " -0.0031130988045952185,\n",
       " -0.00024997417143196587,\n",
       " -0.0024041858421565143,\n",
       " -0.0016605601293824684,\n",
       " -0.0010067189312814723,\n",
       " -0.0022116120256524263,\n",
       " -0.0011308904702564682,\n",
       " -0.0012065685275224197,\n",
       " -0.00097258259664922964,\n",
       " -0.00011216515232310986,\n",
       " -0.0020601825801287305,\n",
       " -0.0019158174482259288,\n",
       " -0.0024799730432242401,\n",
       " -0.0021496379580245584,\n",
       " -0.00069020721175305777,\n",
       " -0.0023627362096055593,\n",
       " -0.0022114005595365027,\n",
       " 0.00025947119807200048,\n",
       " -0.0034641987823100795,\n",
       " -0.001729711065176831,\n",
       " -0.0040353027256399138,\n",
       " -0.0027552789983837644,\n",
       " -0.0015092193631977002,\n",
       " -0.0015229796301085702,\n",
       " -8.4798101972621831e-05,\n",
       " 0.0013675717414217692,\n",
       " -0.00026393567222733616,\n",
       " -0.0013651833680721204,\n",
       " -0.0020188693773299654,\n",
       " -0.0023286663844775124,\n",
       " -0.002576139722757137,\n",
       " -0.0027206481058997534,\n",
       " -0.00087622150471941551,\n",
       " 0.0011335823998047806,\n",
       " -0.000958786516928406,\n",
       " -2.2813802113330617e-05,\n",
       " -0.0022458472718550337,\n",
       " -0.0008417679709132736,\n",
       " -0.00062841050280307287,\n",
       " -0.0024386734834007107,\n",
       " -0.0033680934961656667,\n",
       " -0.00029810781966954636,\n",
       " -0.00049092891509951164,\n",
       " -0.0021151656651274831,\n",
       " -0.0019978606166327073,\n",
       " -0.001653799371960224,\n",
       " -0.00090376761911968584,\n",
       " -0.00067638214070990521,\n",
       " -0.0017916953650361223,\n",
       " -0.0019501737758336191,\n",
       " -0.0017641219646854084,\n",
       " -0.0019292929180290547,\n",
       " -0.0026244439081849896,\n",
       " -0.0011651001358805313,\n",
       " -0.0024112228698269927,\n",
       " -0.0021631986964228134,\n",
       " -0.00085571923947723449,\n",
       " -0.001970575424133536,\n",
       " -0.0011790258238659479,\n",
       " -2.2786516162887072e-05,\n",
       " -0.0034364565501410066,\n",
       " -0.0015438553717974229,\n",
       " -0.0017296701362511796,\n",
       " -0.00074538811989252607,\n",
       " -0.00018098524596836529,\n",
       " -0.0018120407360632668,\n",
       " -0.00013974025804570911,\n",
       " -0.0017366389490455353,\n",
       " -0.0015024313198250122,\n",
       " 0.00021124034363596833,\n",
       " -0.0022185859545625075,\n",
       " -0.0026175910606799913,\n",
       " -0.0018880394032469022,\n",
       " -0.0029752249813540521,\n",
       " -0.002927147610389258,\n",
       " -0.0020528010673339092,\n",
       " -0.0031474841235252515,\n",
       " -0.0026516711180394614,\n",
       " -0.0012615703716121057,\n",
       " -0.0023765885665991693,\n",
       " -0.0030027386936881673,\n",
       " -0.00062172137100073577,\n",
       " -0.0029687984768247133,\n",
       " -0.0016264954203701332,\n",
       " -0.00091738463479072718,\n",
       " -0.0027277533484463268,\n",
       " -0.0017364939924338074,\n",
       " -0.0012955753926078561,\n",
       " -0.0024937111403003642,\n",
       " 0.0010715725193669451,\n",
       " -0.0011721644495014394,\n",
       " -0.0021083025853910753,\n",
       " -0.00052492881997955043,\n",
       " -0.0014682404132918686,\n",
       " -0.0025075481489468393,\n",
       " -0.0019911100914418861,\n",
       " -0.0016194362228649228,\n",
       " -0.0048474517973481485,\n",
       " -0.00044957307800320978,\n",
       " -0.0017914310323912108,\n",
       " -0.001158310387135944,\n",
       " -0.00117215421727003,\n",
       " -0.00018786026330806782,\n",
       " -0.0015986781518373405,\n",
       " -0.0011790241184940486,\n",
       " -0.0016332237757262363,\n",
       " -0.0030165296572932931,\n",
       " -0.002686206509696934,\n",
       " -0.0008144640193231828,\n",
       " -0.00058028708679690177,\n",
       " 5.9995078277738645e-05,\n",
       " -0.0027483255339365298,\n",
       " -0.0029959472395716807,\n",
       " -0.0026309266899871148,\n",
       " -0.0049371186413599139,\n",
       " 0.00103003079673325,\n",
       " -0.0025075106307649864,\n",
       " -0.0010552141183624297,\n",
       " -0.0033196068359442332,\n",
       " -0.0017364104292105775,\n",
       " -0.0037943718571789992,\n",
       " -0.0030511537282896795,\n",
       " 0.00036961813749120109,\n",
       " 0.00014942317022313689,\n",
       " -0.0020464768851187476,\n",
       " -0.00025685942100310555,\n",
       " -0.00024998269829147601,\n",
       " -0.0031541374425176211,\n",
       " -0.0038217099162071444,\n",
       " -0.0012201531411273059,\n",
       " -0.0019636492456367449,\n",
       " -0.0010964983298388103,\n",
       " -0.00026365769660721683,\n",
       " -0.00029125667753646112,\n",
       " -0.0018052578088062904,\n",
       " -0.0021770578749040342,\n",
       " -0.0040008167897676167,\n",
       " -0.0011035524112283229,\n",
       " -0.0038772404255866533,\n",
       " -0.003581210506837601,\n",
       " -0.0018811643859071719,\n",
       " -0.0019704372890094329,\n",
       " -0.0014407659245115195,\n",
       " -0.0022456272788796,\n",
       " -0.0032852146955265893,\n",
       " -0.0008691452534951849,\n",
       " 0.00037611285689664875,\n",
       " -0.00083493729324302102,\n",
       " -0.0012135151704820435,\n",
       " -0.002294233315134217,\n",
       " -0.00058715528264902117,\n",
       " -0.002968406241287122,\n",
       " -0.0022458882007806852,\n",
       " -0.00374613418125537,\n",
       " -0.0039115114845992144,\n",
       " -0.0014891161549807352,\n",
       " -0.0016195521881543079,\n",
       " -0.0021291953807989622,\n",
       " -0.0028584127853391456,\n",
       " -0.0002635212668549991,\n",
       " -0.00075244902276964953,\n",
       " -0.0030510769865540605,\n",
       " -0.0021078046167955083,\n",
       " -0.004462300753596174,\n",
       " 0.00030089525004439732,\n",
       " -0.0028308939568893188,\n",
       " -0.0026173932375392894,\n",
       " -0.0017434355192777473,\n",
       " 0.0014708914139145296,\n",
       " -0.00047684292215526003,\n",
       " -0.0016334028397760048,\n",
       " -0.0010964829814916893,\n",
       " -0.0020255346339256713,\n",
       " -0.00063522242138239204,\n",
       " -0.0015919378588779287,\n",
       " 0.00019790641970075795,\n",
       " -0.0010895073472097089,\n",
       " -0.0043589947240786353,\n",
       " -0.0018673427256078179,\n",
       " -0.0040423329318227813,\n",
       " -0.00019490922858186877,\n",
       " -0.0015782679766778995,\n",
       " -0.00075937690663835378,\n",
       " -0.0017779402142409639,\n",
       " -0.001791448086110245,\n",
       " 0.00046597070256150508,\n",
       " 0.00045248500052696983,\n",
       " -0.0025624834835323296,\n",
       " -0.0017021615400327622,\n",
       " -0.0014474942798676088,\n",
       " -0.0019500731588913689,\n",
       " -0.0017641867688177187,\n",
       " -0.0052260706035128501,\n",
       " -0.001247820336932659,\n",
       " -0.0028032591631501208,\n",
       " -0.0025349390745039724,\n",
       " -0.0027756618875927619,\n",
       " -0.00035998638647087577,\n",
       " -0.0021356866894605975,\n",
       " -7.7704797029343187e-05,\n",
       " -0.0015782116994051132,\n",
       " 0.00026605971293208741,\n",
       " -0.00031214265145672326,\n",
       " -0.00066971176799848764,\n",
       " -0.0011721985569394938,\n",
       " -0.0018260568087595103,\n",
       " -0.0028925832274094426,\n",
       " -0.0024869964279194828,\n",
       " 0.00019744255854324544,\n",
       " 0.0001287503677906976,\n",
       " -0.001770976517562306,\n",
       " -0.0017364939924338074,\n",
       " -0.0034570969505073046,\n",
       " -0.0021079802701014783,\n",
       " -0.0011857644114534605,\n",
       " -0.0020325205004390751,\n",
       " -0.0024319775301107627,\n",
       " -0.0020943734866618463,\n",
       " -0.00097241035408705823,\n",
       " -0.0025071951369630002,\n",
       " -0.0011377552553647752,\n",
       " -0.0014680084827131262,\n",
       " -0.0025006526671442902,\n",
       " -0.0024803448142990125,\n",
       " -0.00091740168850976134,\n",
       " -0.0019432049630392495,\n",
       " 0.00067260152068751577,\n",
       " -0.0024940095803833301,\n",
       " -0.002679617994836847,\n",
       " -0.001811950351352426,\n",
       " -0.0017916885435485114,\n",
       " -0.0022183028628266627,\n",
       " -0.00033267049727746245,\n",
       " -0.0034915044392720834,\n",
       " -0.0023628044244816682,\n",
       " -0.0028927725236906343,\n",
       " -0.0017848101154649826,\n",
       " -0.0018742075107161249,\n",
       " -0.0013443008048956567,\n",
       " -0.0026589827105862607,\n",
       " -0.0010619765811565596,\n",
       " -0.001887730730932527,\n",
       " 6.0013837368672052e-05,\n",
       " -0.00071788122904603568,\n",
       " -0.0024386325544750453,\n",
       " -0.0034436044269851585,\n",
       " -0.0008006474751395265,\n",
       " -0.0040490186528813199,\n",
       " -0.00062827407305086902,\n",
       " 0.0002941293765064551,\n",
       " -0.00082793778375440941,\n",
       " -0.0039870275315344178,\n",
       " -0.0014128275745736441,\n",
       " -0.00070405956874666775,\n",
       " -0.0002567076429037668,\n",
       " 0.00059677509606603785,\n",
       " -0.0024177738665052129,\n",
       " -0.0021083571572919624,\n",
       " -0.003959570096473089,\n",
       " 0.0012575049544819861,\n",
       " -0.0011789866003121957,\n",
       " -0.0023287345993536213,\n",
       " -0.0038013867150147318,\n",
       " -0.00059395355825311857,\n",
       " -0.0022319608074233693,\n",
       " -0.002541938583992584,\n",
       " -0.00055958699841400505,\n",
       " -0.0023834772269141213,\n",
       " -0.00030484640725705892,\n",
       " -0.0012616317650005898,\n",
       " -0.00080728544578478889,\n",
       " 0.0013679196372899105,\n",
       " 0.00019091884781545498,\n",
       " -0.00089676981500297348,\n",
       " -0.0013234523491572336,\n",
       " -0.0015299586751343491,\n",
       " -0.0012064150440511817,\n",
       " -0.0020187107777430296,\n",
       " -0.00096556091732587224,\n",
       " -0.0017916271501600134,\n",
       " -0.0036841891049498449,\n",
       " -0.0017711948051658405,\n",
       " -0.0025554123484238106,\n",
       " -0.0028240479308719452,\n",
       " -0.00076601317191170304,\n",
       " -0.0012480897856932682,\n",
       " -0.0023559754521833148,\n",
       " -0.0023901339566503033,\n",
       " -0.0026174307557211424,\n",
       " -0.0029337531789683652,\n",
       " -0.0010961538447144814,\n",
       " -0.0027621813016739383,\n",
       " 0.00044539851707131595,\n",
       " -0.0014129947010201038,\n",
       " -0.0022801319738428166,\n",
       " -0.0011031004876741191,\n",
       " -0.0029066436397751777,\n",
       " -0.0011926428395369892,\n",
       " -0.0014060020130191031,\n",
       " -0.0031339421442179299,\n",
       " -0.0012683942277947474,\n",
       " 0.00069323509956620288,\n",
       " -0.0014888313578729911,\n",
       " -0.00092423407155191317,\n",
       " -0.0018261761847927077,\n",
       " -0.0025487573240595279,\n",
       " -0.00088997324477077533,\n",
       " -0.0014817414636735388,\n",
       " -0.0021907328732197612,\n",
       " -0.00083499186514390811,\n",
       " -0.0022665268957750839,\n",
       " -0.0013993333456795987,\n",
       " -0.0022666155751140254,\n",
       " -0.00020186951451672819,\n",
       " -0.00062844972635682506,\n",
       " -0.0045446116653916624,\n",
       " -0.0020256949388845341,\n",
       " -0.0008211275705469756,\n",
       " 0.0002183694613891729,\n",
       " -0.0019294805089383471,\n",
       " -0.0022803315023554316,\n",
       " -0.0017845167914977283,\n",
       " -0.002775663592964675,\n",
       " -0.0020738797482791893,\n",
       " 0.00056904309612838821,\n",
       " -0.00069041867786899525,\n",
       " -0.0026171476639853114,\n",
       " -0.0014405374046765618,\n",
       " -0.0023008303568538002,\n",
       " -0.0008830419501582587,\n",
       " -0.00088986410096900115,\n",
       " -0.0023836290050134601,\n",
       " -0.0015434529040283945,\n",
       " -0.0026450263259065881,\n",
       " 0.00036267661064727508,\n",
       " -0.0021975516132867051,\n",
       " -0.0023764640744502741,\n",
       " -0.0016194942055096223,\n",
       " -0.0030788686745083227,\n",
       " -0.0040767694119099029,\n",
       " -0.00082105765029896749,\n",
       " -0.0016885308813864991,\n",
       " -0.0031337954822342889,\n",
       " -0.0016537976665883108,\n",
       " -0.00063520366229145864,\n",
       " -0.0039114586180702404,\n",
       " -0.0021631526513814364,\n",
       " -0.0021699117034317955,\n",
       " -0.0021288730655093652,\n",
       " -0.00034589357203898552,\n",
       " -0.00043565421150539019,\n",
       " -0.0016402130529834386,\n",
       " -0.0025485919029849674,\n",
       " -0.0018052765678972099,\n",
       " -0.0017021820044955949,\n",
       " -0.0024040630553795184,\n",
       " -0.0036913557408849024,\n",
       " -0.0017433400184511949,\n",
       " -0.0024591910969900266,\n",
       " -0.00026350932925167658,\n",
       " -0.0017364854655743112,\n",
       " -0.001412865092755497,\n",
       " -0.0014889967789475655,\n",
       " -0.0022045118992215507,\n",
       " -0.0015094308293136238,\n",
       " -0.00093122505418101464,\n",
       " -0.0025350379860743233,\n",
       " -0.00051128451835806554,\n",
       " -0.0027001867695832238,\n",
       " -0.0021424559737423521,\n",
       " -0.0030168298027481444,\n",
       " -0.0045653629149316338,\n",
       " 0.00026674868318074529,\n",
       " -9.1502582122066078e-05,\n",
       " -0.003237036707619545,\n",
       " -0.0044345448784518793,\n",
       " -0.0015918918138365518,\n",
       " -0.00089023757741568676,\n",
       " -0.0038494947826737819,\n",
       " -0.0017158945209931747,\n",
       " -0.0019498446390564111,\n",
       " -0.0029754449743294858,\n",
       " -0.0012683805848195256,\n",
       " -0.00089688407492044542,\n",
       " -0.0049785188181256934,\n",
       " -0.00078680535037733978,\n",
       " -0.0028378866448903195,\n",
       " -0.00018108074679490382,\n",
       " -0.00118573883087493,\n",
       " -0.0018536387359697343,\n",
       " -0.0020667949701954347,\n",
       " -0.00080720529330535751,\n",
       " -0.0024245533830183907,\n",
       " -0.0030993777612381146,\n",
       " -0.0017569774985850689,\n",
       " -0.002060078552442654,\n",
       " -0.00085566296220444815,\n",
       " -0.0019774930757708448,\n",
       " -0.0023489981125294351,\n",
       " -0.0017777338642407381,\n",
       " -0.0020462449545399775,\n",
       " -0.00069714873859698379,\n",
       " -0.00024986161688639319,\n",
       " -0.0021356031262373676,\n",
       " -0.0025210185026342535,\n",
       " -0.00094487106117439879,\n",
       " -0.0024314880883747059,\n",
       " -0.00026358607098729558,\n",
       " -0.0022456238681357876,\n",
       " -0.0013927056072657457,\n",
       " -0.0014748050529453244,\n",
       " -0.0017845611311671922,\n",
       " -0.0011513586280605947,\n",
       " -0.00073155622736176262,\n",
       " -0.0019289245576980807,\n",
       " -0.0025831801611714139,\n",
       " -0.0014338619158494464,\n",
       " -0.00068335265887616015,\n",
       " -5.0083646265366988e-05,\n",
       " -0.0042485527553202673,\n",
       " -0.0016607511310355733,\n",
       " -0.0016608602748373474,\n",
       " -0.0016816371049558354,\n",
       " -0.0010414640836829692,\n",
       " -0.0020670917049065013,\n",
       " -0.0025005264696234958,\n",
       " -0.0018741972784847155,\n",
       " -0.0012340992935755551,\n",
       " -0.0019019599751166211,\n",
       " -0.0010554272898502387,\n",
       " -0.0026865066551517852,\n",
       " -0.00053919217160169897,\n",
       " -0.0037532871742152196,\n",
       " -0.00028433220441155538,\n",
       " -0.0023147014729383297,\n",
       " 4.8158755101695983e-06,\n",
       " -0.0010896403662181142,\n",
       " -0.0016126106613103819,\n",
       " -0.0012686415067206386,\n",
       " -0.0011998111808439599,\n",
       " -0.0013233994826282597,\n",
       " -0.00031881814028385247,\n",
       " -0.0015229284689514955,\n",
       " -0.00016714482657806395,\n",
       " -0.0044071249615724173,\n",
       " -0.0016194498658401446,\n",
       " -0.0026519883172133607,\n",
       " -0.0018191169872874974,\n",
       " -0.0014818881256571798,\n",
       " -0.00050458003820860742,\n",
       " -0.0010551305551391998,\n",
       " -0.00078681046649305142,\n",
       " -0.0001672966046774027,\n",
       " 0.00038339204737729282,\n",
       " -0.0031060106157676515,\n",
       " -0.0017638149977429463,\n",
       " 5.2966577466784237e-05,\n",
       " -0.0026450109775594671,\n",
       " -0.00038061996534954901,\n",
       " 3.2235792389645468e-05,\n",
       " 0.00026618761582478112,\n",
       " 0.00057611934735261883,\n",
       " -0.0017295831622841373,\n",
       " -0.0016334147773793273,\n",
       " -0.0013098609140647366,\n",
       " -0.00057342230168859476,\n",
       " -0.0011242610264707159,\n",
       " 0.00025255525180661875,\n",
       " -0.001619683501790814,\n",
       " -0.0014748067583172236,\n",
       " -0.0018054897393850328,\n",
       " 7.3683719568687356e-05,\n",
       " 6.6728549749553445e-05,\n",
       " -0.0015782048779175023,\n",
       " -0.0026173147904317712,\n",
       " -0.0025073588526656476,\n",
       " -0.0010069303973974097,\n",
       " -0.00080736218752040789,\n",
       " -0.0034711505413854149,\n",
       " -0.0010964164719874936,\n",
       " -3.677189216488852e-05,\n",
       " -0.0014545620042323432,\n",
       " -0.0016403051430661786,\n",
       " -0.0021151656651274831,\n",
       " -0.0029133327715775148,\n",
       " -0.0030855424579635388,\n",
       " -0.0017844929162910833,\n",
       " -0.002954729537599482,\n",
       " -0.0020943803081494572,\n",
       " -9.1405375923628296e-05,\n",
       " -0.001695325746246798,\n",
       " -0.001309802931420051,\n",
       " -0.00091747672487346721,\n",
       " -0.0043380865803236274,\n",
       " -0.0017090007445625249,\n",
       " -0.00086902928820579983,\n",
       " -0.0029269838946865967,\n",
       " -0.0019155838122752733,\n",
       " -0.00032574431878065746,\n",
       " -0.00031185103286138216,\n",
       " -0.0014199976212525278,\n",
       " -0.0025969625979170158,\n",
       " -0.00065576732092213763,\n",
       " -0.0017504162696754394,\n",
       " -0.0026242921300856509,\n",
       " -0.00077283702809435861,\n",
       " -0.00063524118047332545,\n",
       " -0.0024799355250423732,\n",
       " -0.0025072872270457403,\n",
       " -0.0015711712609908363,\n",
       " -0.0035536848569001633,\n",
       " -0.0016811885921454439,\n",
       " -0.001763912203941384,\n",
       " -0.0014749602417884616,\n",
       " -2.0284451353047572e-06,\n",
       " 0.00012845533845153023,\n",
       " 0.001002887150102022,\n",
       " -0.00054556580960204992,\n",
       " -0.0019911373773923158,\n",
       " -0.00058012337109425438,\n",
       " -0.0038151367496941924,\n",
       " -0.0033467573040630999,\n",
       " 0.00032818555865928023,\n",
       " -0.00049764192210847991,\n",
       " -0.0022664825561056201,\n",
       " -0.0020667472197821585,\n",
       " -0.0023010213585068912,\n",
       " -0.0016401772401734849,\n",
       " -0.00045635600526020004,\n",
       " 0.0010990504188911204,\n",
       " 7.3642790643022038e-05,\n",
       " -0.0016539630876628852,\n",
       " -0.0020600870793021642,\n",
       " -0.0016470249715627577,\n",
       " -0.0035672524167860292,\n",
       " -0.0019841378679037042,\n",
       " -0.0018051827724425706,\n",
       " -0.0012755642744736312,\n",
       " -0.0011581910111027605,\n",
       " -0.00095896046486247666,\n",
       " -0.0029960359189106223,\n",
       " -0.00057333532772155249,\n",
       " -0.0016814137012366032,\n",
       " -0.0018602937603340308,\n",
       " -0.0016674658434164408,\n",
       " -0.0035258863474583041,\n",
       " -0.00094529058266244748,\n",
       " -0.00075197492938071375,\n",
       " -0.0020943700759180478,\n",
       " -0.00095905937643282757,\n",
       " 0.00029385651700203352,\n",
       " 0.0020834518112829298,\n",
       " 0.00055538685690358081,\n",
       " -0.0034226178361226323,\n",
       " -0.0027206242306931222,\n",
       " -0.00118600657426364,\n",
       " -0.0012615072728517085,\n",
       " -0.0022802820465702422,\n",
       " -0.0024318359842428472,\n",
       " -0.0017024395156528954,\n",
       " -0.0034434100145882413,\n",
       " 2.5456275876467593e-05,\n",
       " -0.0009450586520837051,\n",
       " -0.0021700515439277979,\n",
       " -0.0028104667280108575,\n",
       " -0.0027139163397998517,\n",
       " -0.0015368712106559324,\n",
       " -0.0042005094917935276,\n",
       " 2.5435811413634934e-05,\n",
       " 0.00069305774088833372,\n",
       " -0.0012822499955321559,\n",
       " -0.00097944397101373815,\n",
       " -0.0010550265274531234,\n",
       " -0.0029477743677803342,\n",
       " -0.0026999292584259232,\n",
       " -0.0011033631149471312,\n",
       " -0.0015231603995302517,\n",
       " -0.00049068504691743287,\n",
       " -0.00021547970870015865,\n",
       " -0.0019154729631015999,\n",
       " -0.0016676261483752897,\n",
       " -0.00011208329447177923,\n",
       " -6.3840502432424562e-05,\n",
       " -0.0014060327097133452,\n",
       " -0.0033059369537442179,\n",
       " -0.0022869097849840953,\n",
       " -0.003319635827266576,\n",
       " -0.0010757453749269535,\n",
       " -0.0024315494817632038,\n",
       " -0.0029891864821494224,\n",
       " -9.8810763925066825e-05,\n",
       " -0.0010276731200778572,\n",
       " -0.0010553317890237002,\n",
       " -0.0026794969134317503,\n",
       " -0.0023834823430298191,\n",
       " -0.00089703926376358267,\n",
       " -0.0020189068955118461,\n",
       " -0.0027000827418971751,\n",
       " 0.00058993077542056349,\n",
       " -0.00038074786824225659,\n",
       " -0.0018672233495746343,\n",
       " -0.0027278880728266452,\n",
       " -0.0024865734956876356,\n",
       " -0.0022870479201082122,\n",
       " -0.0026449819862371243,\n",
       " -0.0013163300528916261,\n",
       " -0.00060132995493222818,\n",
       " -0.0017158160738856704,\n",
       " -0.0046135528404420006,\n",
       " -0.0025073571472937484,\n",
       " 0.00032812757601458076,\n",
       " -0.0019909020360697471,\n",
       " 0.0010922487325432106,\n",
       " -0.0032922022674118923,\n",
       " -9.848503789167129e-05,\n",
       " -0.0024315904106888553,\n",
       " -0.0022871928767199123,\n",
       " -0.0019361491762778515,\n",
       " -0.0010413071894679188,\n",
       " -0.0020808451503297465,\n",
       " -0.00048367701056931112,\n",
       " 0.001897468215010828,\n",
       " -0.0023973091194448987,\n",
       " -0.0020256284293803245,\n",
       " -0.0028241724230208404,\n",
       " -0.00036018932572727536,\n",
       " -0.0023355959737181159,\n",
       " -0.0027205986501145779,\n",
       " -0.0022391206218708298,\n",
       " -0.00066272931222889631,\n",
       " -0.0022391035681518096,\n",
       " -0.00051834542123518901,\n",
       " -0.00480620680942552,\n",
       " -0.0018531527049774899,\n",
       " -0.0015230290858937456,\n",
       " -0.0016747535607566089,\n",
       " -0.0014130646212681119,\n",
       " -0.0019498719250068547,\n",
       " -0.0030854162604427443,\n",
       " -0.001206432097770202,\n",
       " -0.0015161250772316726,\n",
       " -0.0011926786523469429,\n",
       " -0.00091052155505431942,\n",
       " 0.00077569437871723157,\n",
       " -0.0020805194242963371,\n",
       " -0.0022320938264317747,\n",
       " -0.0025004872460697297,\n",
       " -0.0013234421169258104,\n",
       " -0.00045639181807013984,\n",
       " -0.0035743099089193264,\n",
       " -0.0018949502333965862,\n",
       " -0.00071804494474868308,\n",
       " -0.0038427937132681222,\n",
       " -0.00039428473143386655,\n",
       " -0.00018089656662940989,\n",
       " -0.0016676125054000818,\n",
       " -0.0005183232514004571,\n",
       " -0.0010483851460640764,\n",
       " -0.0024108306342893737,\n",
       " -0.0032228262225263843,\n",
       " -0.0029890722222319505,\n",
       " 0.0010302797810310405,\n",
       " -0.0027071658146090305,\n",
       " -0.0012686636765553705,\n",
       " -0.00027743331186519393,\n",
       " -0.0025348606273964541,\n",
       " -0.0030649702724733358,\n",
       " -0.0034089206679721595,\n",
       " -0.003787660555541944,\n",
       " -0.0028171882618793359,\n",
       " -0.0020120847447011037,\n",
       " -0.0011171199711141888,\n",
       " -0.0026796435754153913,\n",
       " -0.0017848902679444001,\n",
       " -0.0008281304907793996,\n",
       " -0.0022734496635280904,\n",
       " -0.0019775715228783491,\n",
       " -0.0040284379405316068,\n",
       " -0.0013924191047861023,\n",
       " -0.0019775016026303549,\n",
       " -0.001014088506472971,\n",
       " -0.002424923448721264,\n",
       " -7.10531834088729e-05,\n",
       " 0.00025923926749324422,\n",
       " -0.0015094103648507912,\n",
       " -0.0024451136309052574,\n",
       " -0.0032716454302688103,\n",
       " -0.0019844994067470673,\n",
       " -0.0038357328103910265,\n",
       " -0.0017091218259676216,\n",
       " -0.0011998214130753831,\n",
       " -0.001323900861967639,\n",
       " -0.0016264255001221251,\n",
       " 0.00050736064709586137,\n",
       " -0.0019635622716697165,\n",
       " -0.00051134420637465039,\n",
       " -0.0012207125031113569,\n",
       " -0.0005320954559146357,\n",
       " -0.0027621659533268172,\n",
       " -0.00099312067470136434,\n",
       " -0.0014406977096354107,\n",
       " -0.0021700651869030196,\n",
       " -0.0015508548812860484,\n",
       " -0.00044948098792046975,\n",
       " 0.00010133215628312098,\n",
       " -0.002610755266894027,\n",
       " -0.00018797452322555364,\n",
       " 0.0001562367941743692,\n",
       " -0.0021218769667645521,\n",
       " -0.0029960308027948968,\n",
       " -0.0019775493530436172,\n",
       " -0.0010759329658362321,\n",
       " -0.0015025541066020082,\n",
       " -0.0011929566279670761,\n",
       " -0.00083481791720983745,\n",
       " -0.0020119125021389184,\n",
       " -0.0031477143487321085,\n",
       " -0.0028445894196678922,\n",
       " -0.0017296053321188692,\n",
       " -0.0028374261944766194,\n",
       " 0.0011267005609774533,\n",
       " -0.0023904323967332691,\n",
       " -0.00026348545404503154,\n",
       " -0.0010137525482081522,\n",
       " -0.0023902567434272853,\n",
       " -0.0011239762293629857,\n",
       " -0.0016058089749624582,\n",
       " -0.0013788276696936053,\n",
       " 6.687350636128131e-05,\n",
       " -0.0011582899226731114,\n",
       " -0.0020874217275865109,\n",
       " -0.0011237835223379816,\n",
       " 0.00030077075789551599,\n",
       " -0.0030374258634449786,\n",
       " -0.0012891471827066181,\n",
       " -0.001949882157238278,\n",
       " -0.0048749109377813765,\n",
       " -0.0022732791263378183,\n",
       " -0.0023973636913457719,\n",
       " -0.0011306261376115428,\n",
       " -0.001592086226233469,\n",
       " -0.00057313068309323978,\n",
       " -0.0012614987459921984,\n",
       " -0.00024974224085320962,\n",
       " -0.0017985669716320263,\n",
       " -0.001275347692241996,\n",
       " -0.0016129756108975435,\n",
       " -0.00024299683177808618,\n",
       " 0.00020429540604822993,\n",
       " -0.00095183987396876835,\n",
       " -0.0010276884684249782,\n",
       " -0.004544616781507374,\n",
       " -0.0033333517545079822,\n",
       " -0.0029134316831478657,\n",
       " -0.0028860134716402891,\n",
       " -0.00091062387736848271,\n",
       " 0.00106468556442392,\n",
       " -0.0020738337032378124,\n",
       " -0.0019086047672494805,\n",
       " -0.0027001168493352296,\n",
       " -0.001062056733635991,\n",
       " 0.00067940661777922406,\n",
       " -0.0023835386203026054,\n",
       " -0.0029960597941172395,\n",
       " -0.0024455365631371184,\n",
       " -0.0043174871088829808,\n",
       " -0.0026724667072488967,\n",
       " -0.0016335102782058658,\n",
       " -0.00020162394096273628,\n",
       " -0.001068730517091207,\n",
       " -0.0028789934976888448,\n",
       " -0.00096583548220219306,\n",
       " 0.00025272919974068941,\n",
       " -0.0016404347513307854,\n",
       " -0.0014268453526418146,\n",
       " -0.0018947865176939249,\n",
       " -0.00054573805216420745,\n",
       " -0.0021633607067535615,\n",
       " -0.0020942899234386164,\n",
       " -0.00072487221167512328,\n",
       " 0.0016154066185447569,\n",
       " -0.0011033852847818632,\n",
       " -0.0019358984866081619,\n",
       " -0.0026106427123484544,\n",
       " -0.0005458096777841287,\n",
       " -0.001922230309780032,\n",
       " -0.001144894605349403,\n",
       " 0.00012158714259942471,\n",
       " -0.0018123016579643658,\n",
       " -0.0026521776134945524,\n",
       " -0.0019428451295677995,\n",
       " -0.00095201723264663751,\n",
       " 0.0011814977604388127,\n",
       " -0.0012068345655392304,\n",
       " -0.0036499794393257678,\n",
       " -0.0018261454880984657,\n",
       " ...]"
      ]
     },
     "execution_count": 35,
     "metadata": {},
     "output_type": "execute_result"
    }
   ],
   "source": [
    "p_diffs = []\n",
    "for _ in range(10000):\n",
    "    tmp = df2[df['group']=='treatment'].sample(n_new, replace=True)\n",
    "    new_page_converted = tmp.converted\n",
    "    tmp = df2[df['group']=='control'].sample(n_old, replace=True)\n",
    "    old_page_converted = tmp.converted\n",
    "    pnew = new_page_converted.sum()/new_page_converted.count()\n",
    "    pold = old_page_converted.sum()/old_page_converted.count()\n",
    "    p_diffs.append(pnew-pold)\n",
    "p_diffs"
   ]
  },
  {
   "cell_type": "markdown",
   "metadata": {},
   "source": [
    "i. Plot a histogram of the **p_diffs**.  Does this plot look like what you expected?  Use the matching problem in the classroom to assure you fully understand what was computed here."
   ]
  },
  {
   "cell_type": "code",
   "execution_count": 36,
   "metadata": {},
   "outputs": [
    {
     "data": {
      "image/png": "[encoded data removed]",
      "text/plain": [
       "<matplotlib.figure.Figure at 0x18cfa2c36d8>"
      ]
     },
     "metadata": {},
     "output_type": "display_data"
    }
   ],
   "source": [
    "plt.hist(p_diffs);"
   ]
  },
  {
   "cell_type": "markdown",
   "metadata": {},
   "source": [
    "j. What proportion of the **p_diffs** are greater than the actual difference observed in **ab_data.csv**?"
   ]
  },
  {
   "cell_type": "code",
   "execution_count": null,
   "metadata": {},
   "outputs": [],
   "source": [
    "pold_actual = df[df['group']=='control']['converted'].mean()\n",
    "pnew_actual = df[df['group']=='treatment']['converted'].mean()\n",
    "p_diff_actual = pnew_actual - pold_actual\n",
    "print((p_diffs>p_diff_actual).mean())"
   ]
  },
  {
   "cell_type": "code",
   "execution_count": null,
   "metadata": {},
   "outputs": [],
   "source": [
    "p_diffs = np.array(p_diffs)\n",
    "nulls = np.random.normal(0,p_diffs.std(),p_diffs.size)\n",
    "plt.hist(nulls);\n",
    "plt.axvline(x=p_diff_actual, color='red')"
   ]
  },
  {
   "cell_type": "code",
   "execution_count": null,
   "metadata": {},
   "outputs": [],
   "source": [
    "(nulls>p_diff_actual).mean()"
   ]
  },
  {
   "cell_type": "markdown",
   "metadata": {},
   "source": [
    "k. In words, explain what you just computed in part **j.**  What is this value called in scientific studies?  What does this value mean in terms of whether or not there is a difference between the new and old pages?"
   ]
  },
  {
   "cell_type": "markdown",
   "metadata": {},
   "source": [
    "****We have computed the p-value which we can use to assess if the obtained negative c_diff is statistically significant. A negative c_diff proves that null hypothesis is valid based on our definition of null (New is not better). Initially, after bootstrapping we obtained a distribution for c_diff centered at -0.001 which tends to show that null is valid. But, comparing that to null random normal distribution shows that there is a high chance that this negative value is drawn from a null random process (large p-value). Therefore, this negative value for c_diff is not statistically significant. Thus, null is rejected and  New is better.**.**"
   ]
  },
  {
   "cell_type": "markdown",
   "metadata": {},
   "source": [
    "l. We could also use a built-in to achieve similar results.  Though using the built-in might be easier to code, the above portions are a walkthrough of the ideas that are critical to correctly thinking about statistical significance. Fill in the below to calculate the number of conversions for each page, as well as the number of individuals who received each page. Let `n_old` and `n_new` refer the the number of rows associated with the old page and new pages, respectively."
   ]
  },
  {
   "cell_type": "code",
   "execution_count": null,
   "metadata": {},
   "outputs": [],
   "source": [
    "import statsmodels.api as sm\n",
    "\n",
    "convert_old = df2[(df2['group']=='control')&(df2['converted']==1)]['user_id'].count()\n",
    "convert_new = df2[(df2['group']=='treatment')&(df2['converted']==1)]['user_id'].count()\n",
    "n_old = df2[df2['group']=='control'].user_id.nunique()\n",
    "n_new = df2[df2['group']=='treatment'].user_id.nunique()"
   ]
  },
  {
   "cell_type": "code",
   "execution_count": null,
   "metadata": {},
   "outputs": [],
   "source": [
    "convert_old,convert_new,n_old,n_new"
   ]
  },
  {
   "cell_type": "markdown",
   "metadata": {},
   "source": [
    "m. Now use `stats.proportions_ztest` to compute your test statistic and p-value.  [Here](http://knowledgetack.com/python/statsmodels/proportions_ztest/) is a helpful link on using the built in."
   ]
  },
  {
   "cell_type": "code",
   "execution_count": null,
   "metadata": {},
   "outputs": [],
   "source": [
    "z_score, p_value = sm.stats.proportions_ztest([convert_old,convert_new], [n_old,n_new],value=None, alternative='smaller', prop_var=False)\n",
    "print(z_score,p_value)"
   ]
  },
  {
   "cell_type": "markdown",
   "metadata": {},
   "source": [
    "n. What do the z-score and p-value you computed in the previous question mean for the conversion rates of the old and new pages?  Do they agree with the findings in parts **j.** and **k.**?"
   ]
  },
  {
   "cell_type": "markdown",
   "metadata": {},
   "source": [
    "**The obtained p-value (.894) agrees with what we obtained in part j (.890) indicatig that the null hypothesis (New not better) is rejected. z-score is the number of standard deviations the observed conversion rate is away from the mean. This agrees with the conclusion we made in part k **"
   ]
  },
  {
   "cell_type": "markdown",
   "metadata": {},
   "source": [
    "<a id='regression'></a>\n",
    "### Part III - A regression approach\n",
    "\n",
    "`1.` In this final part, you will see that the result you acheived in the previous A/B test can also be acheived by performing regression.<br><br>\n",
    "\n",
    "a. Since each row is either a conversion or no conversion, what type of regression should you be performing in this case?"
   ]
  },
  {
   "cell_type": "markdown",
   "metadata": {},
   "source": [
    "**Here we should try  linear regression bacause we have just two quantitative data to compare.**"
   ]
  },
  {
   "cell_type": "markdown",
   "metadata": {},
   "source": [
    "b. The goal is to use **statsmodels** to fit the regression model you specified in part **a.** to see if there is a significant difference in conversion based on which page a customer receives.  However, you first need to create a column for the intercept, and create a dummy variable column for which page each user received.  Add an **intercept** column, as well as an **ab_page** column, which is 1 when an individual receives the **treatment** and 0 if **control**."
   ]
  },
  {
   "cell_type": "code",
   "execution_count": null,
   "metadata": {},
   "outputs": [],
   "source": [
    "df2[['control','ab_page']]=pd.get_dummies(df2['group'])\n",
    "df2.head()"
   ]
  },
  {
   "cell_type": "markdown",
   "metadata": {},
   "source": [
    "c. Use **statsmodels** to import your regression model.  Instantiate the model, and fit the model using the two columns you created in part **b.** to predict whether or not an individual converts."
   ]
  },
  {
   "cell_type": "code",
   "execution_count": null,
   "metadata": {},
   "outputs": [],
   "source": [
    "df2['intercept']=1\n",
    "model=sm.OLS(df2['converted'],df2[['intercept','ab_page']])\n",
    "result=model.fit()"
   ]
  },
  {
   "cell_type": "markdown",
   "metadata": {},
   "source": [
    "d. Provide the summary of your model below, and use it as necessary to answer the following questions."
   ]
  },
  {
   "cell_type": "code",
   "execution_count": null,
   "metadata": {},
   "outputs": [],
   "source": [
    "result.summary()"
   ]
  },
  {
   "cell_type": "markdown",
   "metadata": {},
   "source": [
    "e. What is the p-value associated with **ab_page**? Why does it differ from the value you found in **Part II**?<br><br>  **Hint**: What are the null and alternative hypotheses associated with your regression model, and how do they compare to the null and alternative hypotheses in the **Part II**?"
   ]
  },
  {
   "cell_type": "markdown",
   "metadata": {},
   "source": [
    "**In our regression model, the null hypothesis is that the coefficient of ab_page is nagative. This means that, under null, an increase in ab_page (using new page) results in decrease of conversion. In other words, under null, new page is NOT better:**\n",
    "\n",
    "$H_{0}: $  $coeff_{ab- page}<0$\n",
    "\n",
    "**Fitting a linear model with OLS, we obtain this coefficient to be -0.0015 which tends to show that null is valid. But, the p-value associated with this coefficient is large (0.216) which shows that the negative coefficient obtained for ab_page is not statistically significant. Therefore, null is rejected, and new page is better **"
   ]
  },
  {
   "cell_type": "markdown",
   "metadata": {},
   "source": [
    "f. Now, you are considering other things that might influence whether or not an individual converts.  Discuss why it is a good idea to consider other factors to add into your regression model.  Are there any disadvantages to adding additional terms into your regression model?"
   ]
  },
  {
   "cell_type": "markdown",
   "metadata": {},
   "source": [
    "**Here we used only one variable (membership in control or treatment groups) to draw a conclusion about the conversion rate. In real life, there might be other effective parameters for example gender of user, age, etc. Current dataset does not contain this information, but adding them may help to draw a better conclusion. A possible disadvantage is that if more variables are going to be added, more data points should be collected as well to maintain a reach dataset. Moreover, adding new variables should be done cauciously to avoid adding correlated variables that violates the assumptions of linear regression. **"
   ]
  },
  {
   "cell_type": "markdown",
   "metadata": {},
   "source": [
    "g. Now along with testing if the conversion rate changes for different pages, also add an effect based on which country a user lives. You will need to read in the **countries.csv** dataset and merge together your datasets on the approporiate rows.  [Here](https://pandas.pydata.org/pandas-docs/stable/generated/pandas.DataFrame.join.html) are the docs for joining tables. \n",
    "\n",
    "Does it appear that country had an impact on conversion?  Don't forget to create dummy variables for these country columns - **Hint: You will need two columns for the three dummy variables.** Provide the statistical output as well as a written response to answer this question."
   ]
  },
  {
   "cell_type": "code",
   "execution_count": null,
   "metadata": {},
   "outputs": [],
   "source": [
    "df_country=pd.read_csv('countries.csv')\n",
    "df_country.country.unique()"
   ]
  },
  {
   "cell_type": "code",
   "execution_count": null,
   "metadata": {},
   "outputs": [],
   "source": [
    "df2=df2.set_index('user_id').join(df_country.set_index('user_id'))"
   ]
  },
  {
   "cell_type": "code",
   "execution_count": null,
   "metadata": {},
   "outputs": [],
   "source": [
    "df2[['US','UK','CA']]=pd.get_dummies(df2['country'])\n",
    "df2.head()"
   ]
  },
  {
   "cell_type": "code",
   "execution_count": null,
   "metadata": {},
   "outputs": [],
   "source": [
    "df2['intercept']=1\n",
    "model=sm.OLS(df2['converted'],df2[['intercept','US','UK']])\n",
    "result=model.fit()\n",
    "result.summary()"
   ]
  },
  {
   "cell_type": "markdown",
   "metadata": {},
   "source": [
    "**Based on the result we se that US has the negative impact on conversion rate and UK has positive impact, but amount of p-values in both show that the coefficients are not stastically significant  **"
   ]
  },
  {
   "cell_type": "markdown",
   "metadata": {},
   "source": [
    "h. Though you have now looked at the individual factors of country and page on conversion, we would now like to look at an interaction between page and country to see if there significant effects on conversion.  Create the necessary additional columns, and fit the new model.  \n",
    "\n",
    "Provide the summary results, and your conclusions based on the results."
   ]
  },
  {
   "cell_type": "code",
   "execution_count": null,
   "metadata": {},
   "outputs": [],
   "source": [
    "df2[['control','ab_page']]=pd.get_dummies(df2['group'])\n"
   ]
  },
  {
   "cell_type": "code",
   "execution_count": null,
   "metadata": {},
   "outputs": [],
   "source": [
    "model=sm.OLS(df2['converted'],df2[['intercept','US','UK','ab_page']])\n",
    "result=model.fit()\n",
    "result.summary()"
   ]
  },
  {
   "cell_type": "markdown",
   "metadata": {},
   "source": [
    "**Here we see that based on our model ab_page and US have negative impact in our conversion rate and UK has positive effect, but by looking at the p_value we find that our results are not statistically significant **"
   ]
  },
  {
   "cell_type": "markdown",
   "metadata": {},
   "source": [
    "<a id='conclusions'></a>\n",
    "## Conclusions\n",
    "\n",
    "**This project is a sample of Simpson's Paradox, because by the first glimpse on the data, we can conclude that the conversion rate of old page is more than new page  so it is better to stay. \n",
    "But by doing haypothesis testing and regression model we can see completely different result and based on them we can conclude that the new page has better results.**\n",
    "### Gather Submission Materials\n",
    "\n",
    "Once you are satisfied with the status of your Notebook, you should save it in a format that will make it easy for others to read. You can use the __File -> Download as -> HTML (.html)__ menu to save your notebook as an .html file. If you are working locally and get an error about \"No module name\", then open a terminal and try installing the missing module using `pip install <module_name>` (don't include the \"<\" or \">\" or any words following a period in the module name).\n",
    "\n",
    "You will submit both your original Notebook and an HTML or PDF copy of the Notebook for review. There is no need for you to include any data files with your submission. If you made reference to other websites, books, and other resources to help you in solving tasks in the project, make sure that you document them. It is recommended that you either add a \"Resources\" section in a Markdown cell at the end of the Notebook report, or you can include a `readme.txt` file documenting your sources.\n",
    "\n",
    "### Submit the Project\n",
    "\n",
    "When you're ready, click on the \"Submit Project\" button to go to the project submission page. You can submit your files as a .zip archive or you can link to a GitHub repository containing your project files. If you go with GitHub, note that your submission will be a snapshot of the linked repository at time of submission. It is recommended that you keep each project in a separate repository to avoid any potential confusion: if a reviewer gets multiple folders representing multiple projects, there might be confusion regarding what project is to be evaluated.\n",
    "\n",
    "It can take us up to a week to grade the project, but in most cases it is much faster. You will get an email once your submission has been reviewed. If you are having any problems submitting your project or wish to check on the status of your submission, please email us at dataanalyst-project@udacity.com. In the meantime, you should feel free to continue on with your learning journey by beginning the next module in the program."
   ]
  },
  {
   "cell_type": "code",
   "execution_count": null,
   "metadata": {},
   "outputs": [],
   "source": []
  }
 ],
 "metadata": {
  "kernelspec": {
   "display_name": "Python 3",
   "language": "python",
   "name": "python3"
  },
  "language_info": {
   "codemirror_mode": {
    "name": "ipython",
    "version": 3
   },
   "file_extension": ".py",
   "mimetype": "text/x-python",
   "name": "python",
   "nbconvert_exporter": "python",
   "pygments_lexer": "ipython3",
   "version": "3.6.3"
  }
 },
 "nbformat": 4,
 "nbformat_minor": 2
}
